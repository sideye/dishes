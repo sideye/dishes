{
 "cells": [
  {
   "cell_type": "code",
   "execution_count": 49,
   "metadata": {},
   "outputs": [],
   "source": [
    "import os\n",
    "import json\n",
    "from textblob import TextBlob\n",
    "from nltk.classify import NaiveBayesClassifier\n",
    "from nltk.corpus import subjectivity\n",
    "from nltk.sentiment import SentimentAnalyzer\n",
    "from nltk.sentiment import SentimentIntensityAnalyzer\n",
    "from nltk.sentiment.util import *\n",
    "import math"
   ]
  },
  {
   "cell_type": "code",
   "execution_count": 50,
   "metadata": {},
   "outputs": [],
   "source": [
    "sentence = \"This is good shit\"\n",
    "sentence2 = \"Textblob is amazingly simple to use. What great fun!\"\n",
    "sentence3 = \"The boba was absolutely the worst thing I've ever had.\""
   ]
  },
  {
   "cell_type": "code",
   "execution_count": 51,
   "metadata": {},
   "outputs": [
    {
     "data": {
      "text/plain": [
       "(Sentiment(polarity=-0.4, subjectivity=0.95),\n",
       " {'neg': 0.327, 'neu': 0.673, 'pos': 0.0, 'compound': -0.6573})"
      ]
     },
     "execution_count": 51,
     "metadata": {},
     "output_type": "execute_result"
    }
   ],
   "source": [
    "vader_analyzer = SentimentIntensityAnalyzer()\n",
    "s2 = TextBlob(sentence3)\n",
    "s2.sentiment, vader_analyzer.polarity_scores(sentence3)"
   ]
  },
  {
   "cell_type": "code",
   "execution_count": 52,
   "metadata": {},
   "outputs": [
    {
     "name": "stdout",
     "output_type": "stream",
     "text": [
      "vietnamese coffee 0.19025346599858536\n",
      "combination sandwich 0.2439224819746897\n",
      "grilled chicken sandwich 0.12571701994105405\n",
      "meatball sandwich 0.13164094871246668\n",
      "grilled pork sandwich 0.24189355459464304\n",
      "lemongrass tofu sandwich 0.2658984154728622\n",
      "lemongrass beef sandwich 0.25460878561915046\n",
      "spring rolls 0.19661369464764744\n",
      "vermicelli noodle 0.397675\n",
      "rice plate 0.17619365956622118\n"
     ]
    }
   ],
   "source": [
    "vader_analyzer = SentimentIntensityAnalyzer()\n",
    "for file_path in os.listdir('./extracted_dish_info/')[:1]:\n",
    "    dishes = {}\n",
    "    with open('./extracted_dish_info/{}'.format(file_path), \"r+\") as fp:\n",
    "        inp = json.load(fp)\n",
    "    \n",
    "    # Part 1: determine sentiment of each dish\n",
    "    for dish in inp:\n",
    "        dish_sent_sum = 0 \n",
    "        for review in inp[dish]:\n",
    "            excerpts = review['excerpts']\n",
    "            excerpt_weight = 1\n",
    "            sent_sum = 0\n",
    "            for excerpt in excerpts:\n",
    "                vader_sent = vader_analyzer.polarity_scores(excerpt)\n",
    "                text_blob_sent = TextBlob(excerpt).sentiment\n",
    "                overall_sent = 0.15*vader_sent['neg'] + 0.15*vader_sent['pos'] + 0.25 * vader_sent['compound'] + 0.45 * text_blob_sent.polarity\n",
    "                sent_sum += excerpt_weight * overall_sent\n",
    "            review_sent = sent_sum / len(excerpts) * math.log(5+len(excerpts) - 1, 5)\n",
    "            dish_sent_sum += review_sent\n",
    "        if inp[dish]:\n",
    "            dish_sent = dish_sent_sum / len(inp[dish])\n",
    "            print(dish, dish_sent)"
   ]
  },
  {
   "cell_type": "code",
   "execution_count": 53,
   "metadata": {},
   "outputs": [
    {
     "name": "stdout",
     "output_type": "stream",
     "text": [
      "white chocolate raspberry swirl 0.2210676918622935\n",
      "balsamic strawberry 0.2112398474782468\n",
      "basil 0.2395741226926392\n",
      "olive oil 0.22260719536874404\n",
      "salted caramel 0.24056209511591317\n",
      "chocolate coconut vegan 0.19094247319140883\n",
      "mint chip 0.21902157213718487\n",
      "honey lavender 0.23885538298616274\n",
      "coffee toffee 0.25619507806905584\n",
      "ricanelas 0.23496059413398532\n",
      "roasted banana 0.23348440890044414\n",
      "vanilla 0.2274907386256053\n",
      "malted vanilla 0.23296307707399044\n",
      "brown sugar 0.23654210754313854\n",
      "cookies and cream 0.23845057856541554\n",
      "toasted coconut 0.22040343454143677\n",
      "season fruit sorbet 0.290028795425495\n",
      "seasonal trio 0.27808750000000004\n",
      "trifecta 0.25246980461945434\n",
      "a scoop of each 0.3032785638673558\n",
      "ricanelas ice cream 0.1862559423048226\n",
      "toasted coconut ice cream 0.21774634067084617\n",
      "berry sundae 0.21786695982181462\n",
      "sams sundae 0.18807494313258782\n",
      "dainty gentleman 0.38419040875732735\n",
      "banana split 0.20662982484702266\n",
      "brownie sundae 0.24633150056684514\n",
      "toffee sundae 0.29311887569512146\n",
      "afternoon snack 0.17508737970987207\n",
      "chocolate chip cookies 0.1969153502769766\n",
      "dark chocolate cookies 0.2345892459835181\n",
      "sugar cookie 0.20601087789332498\n",
      "salty peanut cookie 0.30110680440688314\n",
      "midnight cake 0.48131250000000003\n",
      "bars 0.1844987194597413\n",
      "chocolate pots de creme 0.45262500000000006\n",
      "chocolate midnight cake 0.48131250000000003\n",
      "carrot cake 0.3283723185944769\n",
      "cupcakes 0.14616963793727644\n",
      "cookies 0.2348833324560172\n",
      "banana bread 0.17396121160182365\n"
     ]
    }
   ],
   "source": [
    "dishes = {}\n",
    "with open('./extracted_dish_info/bi-rite-creamery-san-francisco.json'.format(file_path), \"r+\") as fp:\n",
    "    inp = json.load(fp)\n",
    "\n",
    "# Part 1: determine sentiment of each dish\n",
    "for dish in inp:\n",
    "    dish_sent_sum = 0 \n",
    "    for review in inp[dish]:\n",
    "        excerpts = review['excerpts']\n",
    "        excerpt_weight = 1\n",
    "        sent_sum = 0\n",
    "        for excerpt in excerpts:\n",
    "            vader_sent = vader_analyzer.polarity_scores(excerpt)\n",
    "            text_blob_sent = TextBlob(excerpt).sentiment\n",
    "            overall_sent = 0.15*vader_sent['neg'] + 0.15*vader_sent['pos'] + 0.25 * vader_sent['compound'] + 0.45 * text_blob_sent.polarity\n",
    "            sent_sum += excerpt_weight * overall_sent \n",
    "            excerpt_weight = excerpt_weight * 0.8\n",
    "        review_sent = sent_sum / len(excerpts) * math.log(5+len(excerpts) - 1, 5) # upweight longer reviews\n",
    "        dish_sent_sum += review_sent\n",
    "    if inp[dish]:\n",
    "        dish_sent = dish_sent_sum / len(inp[dish])\n",
    "        print(dish, dish_sent)"
   ]
  },
  {
   "cell_type": "code",
   "execution_count": null,
   "metadata": {},
   "outputs": [],
   "source": []
  }
 ],
 "metadata": {
  "kernelspec": {
   "display_name": "Python 3",
   "language": "python",
   "name": "python3"
  },
  "language_info": {
   "codemirror_mode": {
    "name": "ipython",
    "version": 3
   },
   "file_extension": ".py",
   "mimetype": "text/x-python",
   "name": "python",
   "nbconvert_exporter": "python",
   "pygments_lexer": "ipython3",
   "version": "3.6.5"
  }
 },
 "nbformat": 4,
 "nbformat_minor": 2
}
